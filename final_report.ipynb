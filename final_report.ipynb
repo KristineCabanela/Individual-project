{
 "cells": [
  {
   "cell_type": "markdown",
   "id": "29f35f9c",
   "metadata": {},
   "source": [
    "# The Secrets to Happiness\n",
    "### A report on World Happiness\n",
    "\n",
    "\n",
    "Presented By: Kristine Cabanela\n",
    "\n",
    "January 24, 2022\n"
   ]
  },
  {
   "cell_type": "markdown",
   "id": "957b58a2",
   "metadata": {},
   "source": [
    "# Project Summary\n",
    "\n",
    "### Goals\n",
    "Our overall goal is to identify key drivers for happiness among a variation of countries around the world and predict happiness based on these key drivers.\n",
    "\n",
    "### Project Description\n",
    "\n",
    "The World Happiness Report is a landmark survey of the state of global happiness that ranks 156 countries by how happy their citizens perceive themselves to be.\n",
    "\n",
    "In this project, we will utilize the information in The World Happiness Report, explore key drivers of happiness by analyzing and making correlations with various (quality of) life factors, and then we will use machine learning to create a regression model that predicts happiness."
   ]
  },
  {
   "cell_type": "markdown",
   "id": "dfe55934",
   "metadata": {},
   "source": [
    "### Initial Questions\n",
    "\n",
    "- What is the relationship between happiness and income (GDP)?\n",
    "\n",
    "- What is the relationship between happiness and freedom?\n",
    "    \n",
    "- What is the relationship between happiness and perceptions of corruption?\n",
    "\n",
    "- How different is happiness depending on the geographical region?"
   ]
  },
  {
   "cell_type": "markdown",
   "id": "cc591fde",
   "metadata": {},
   "source": [
    "## Data Dictionary\n",
    "\n",
    "| Variable            |     Description  |     \n",
    "| ----------------    | ------------------ |\n",
    "|Ladder score | Happiness score or subjective well-being. This is the national average response to the question of life evaluations |\n",
    "|Logged GDP per capita | The GDP-per-capita time series from 2019 to 2020 using countryspecific forecasts of real GDP growth in 2020 |\n",
    "|Social support| Social support refers to assistance or support provided by members of social networks to an individual |\n",
    "|Healthy life expectancy| Healthy life expectancy is the average life in good health - that is to say without irreversible limitation of activity in daily life or incapacities - of a fictitious generation subject to the conditions of mortality and morbidity prevailing that year|\n",
    "|Freedom to make life choices   | Freedom to make life choices is the national average of binary responses to the GWP question “Are you satisfied or dissatisfied with your freedom to choose what you do with your life?”|\n",
    "|Generosity| Generosity is the residual of regressing national average of response to the GWP question “Have you donated money to a charity in the past month?” on GDP per capita |\n",
    "|Perceptions of corruption| The measure is the national average of the survey responses to two questions in the GWP: “Is corruption widespread throughout the government or not” and “Is corruption widespread within businesses or not?”  |\n",
    "|Ladder score in Dystopia| It has values equal to the world’s lowest national averages. Dystopia as a benchmark against which to compare contributions from each of the six factors. Dystopia is an imaginary country that has the world's least-happy people. ... Since life would be very unpleasant in a country with the world's lowest incomes, lowest life expectancy, lowest generosity, most corruption, least freedom, and least social support, it is referred to as “Dystopia,” in contrast to Utopia |\n",
    "\n",
    "\n",
    "\n"
   ]
  },
  {
   "cell_type": "markdown",
   "id": "9b08c671",
   "metadata": {},
   "source": [
    "### Imports\n",
    "**Below are imports of python modules and/or libraries needed for this notebook to run properly**"
   ]
  },
  {
   "cell_type": "code",
   "execution_count": 1,
   "id": "2f373350",
   "metadata": {},
   "outputs": [],
   "source": [
    "# imports\n",
    "\n",
    "import warnings\n",
    "warnings.filterwarnings(\"ignore\")\n",
    "\n",
    "import pandas as pd\n",
    "import matplotlib.pyplot as plt\n",
    "import seaborn as sns\n",
    "import numpy as np\n",
    "import env\n",
    "from env import host, user, password\n",
    "from scipy import stats\n",
    "\n",
    "from sklearn.model_selection import train_test_split\n",
    "\n",
    "\n",
    "# modeling methods\n",
    "import os\n",
    "from sklearn.cluster import KMeans\n",
    "from sklearn.preprocessing import StandardScaler, MinMaxScaler, RobustScaler\n",
    "from sklearn.metrics import mean_squared_error\n",
    "from sklearn.linear_model import LinearRegression, LassoLars, TweedieRegressor\n",
    "from sklearn.feature_selection import SelectKBest, f_regression, RFE\n",
    "from sklearn.preprocessing import PolynomialFeatures\n",
    "from sklearn.linear_model import LinearRegression, ElasticNet, Ridge, Lasso, SGDRegressor\n",
    "from sklearn.metrics import mean_squared_error, mean_absolute_error, r2_score\n",
    "\n",
    "import requests\n",
    "import wrangle\n"
   ]
  },
  {
   "cell_type": "markdown",
   "id": "62da4744",
   "metadata": {},
   "source": [
    "# Acquire and Prep - Wrangle"
   ]
  },
  {
   "cell_type": "markdown",
   "id": "e199d4fa",
   "metadata": {},
   "source": [
    "### Get data by "
   ]
  },
  {
   "cell_type": "code",
   "execution_count": 2,
   "id": "ff9ccaaf",
   "metadata": {},
   "outputs": [
    {
     "data": {
      "text/html": [
       "<div>\n",
       "<style scoped>\n",
       "    .dataframe tbody tr th:only-of-type {\n",
       "        vertical-align: middle;\n",
       "    }\n",
       "\n",
       "    .dataframe tbody tr th {\n",
       "        vertical-align: top;\n",
       "    }\n",
       "\n",
       "    .dataframe thead th {\n",
       "        text-align: right;\n",
       "    }\n",
       "</style>\n",
       "<table border=\"1\" class=\"dataframe\">\n",
       "  <thead>\n",
       "    <tr style=\"text-align: right;\">\n",
       "      <th></th>\n",
       "      <th>Country name</th>\n",
       "      <th>Regional indicator</th>\n",
       "      <th>Ladder score</th>\n",
       "      <th>Standard error of ladder score</th>\n",
       "      <th>upperwhisker</th>\n",
       "      <th>lowerwhisker</th>\n",
       "      <th>Logged GDP per capita</th>\n",
       "      <th>Social support</th>\n",
       "      <th>Healthy life expectancy</th>\n",
       "      <th>Freedom to make life choices</th>\n",
       "      <th>Generosity</th>\n",
       "      <th>Perceptions of corruption</th>\n",
       "      <th>Ladder score in Dystopia</th>\n",
       "      <th>Explained by: Log GDP per capita</th>\n",
       "      <th>Explained by: Social support</th>\n",
       "      <th>Explained by: Healthy life expectancy</th>\n",
       "      <th>Explained by: Freedom to make life choices</th>\n",
       "      <th>Explained by: Generosity</th>\n",
       "      <th>Explained by: Perceptions of corruption</th>\n",
       "      <th>Dystopia + residual</th>\n",
       "    </tr>\n",
       "  </thead>\n",
       "  <tbody>\n",
       "    <tr>\n",
       "      <th>0</th>\n",
       "      <td>Finland</td>\n",
       "      <td>Western Europe</td>\n",
       "      <td>7.842</td>\n",
       "      <td>0.032</td>\n",
       "      <td>7.904</td>\n",
       "      <td>7.780</td>\n",
       "      <td>10.775</td>\n",
       "      <td>0.954</td>\n",
       "      <td>72.0</td>\n",
       "      <td>0.949</td>\n",
       "      <td>-0.098</td>\n",
       "      <td>0.186</td>\n",
       "      <td>2.43</td>\n",
       "      <td>1.446</td>\n",
       "      <td>1.106</td>\n",
       "      <td>0.741</td>\n",
       "      <td>0.691</td>\n",
       "      <td>0.124</td>\n",
       "      <td>0.481</td>\n",
       "      <td>3.253</td>\n",
       "    </tr>\n",
       "    <tr>\n",
       "      <th>1</th>\n",
       "      <td>Denmark</td>\n",
       "      <td>Western Europe</td>\n",
       "      <td>7.620</td>\n",
       "      <td>0.035</td>\n",
       "      <td>7.687</td>\n",
       "      <td>7.552</td>\n",
       "      <td>10.933</td>\n",
       "      <td>0.954</td>\n",
       "      <td>72.7</td>\n",
       "      <td>0.946</td>\n",
       "      <td>0.030</td>\n",
       "      <td>0.179</td>\n",
       "      <td>2.43</td>\n",
       "      <td>1.502</td>\n",
       "      <td>1.108</td>\n",
       "      <td>0.763</td>\n",
       "      <td>0.686</td>\n",
       "      <td>0.208</td>\n",
       "      <td>0.485</td>\n",
       "      <td>2.868</td>\n",
       "    </tr>\n",
       "    <tr>\n",
       "      <th>2</th>\n",
       "      <td>Switzerland</td>\n",
       "      <td>Western Europe</td>\n",
       "      <td>7.571</td>\n",
       "      <td>0.036</td>\n",
       "      <td>7.643</td>\n",
       "      <td>7.500</td>\n",
       "      <td>11.117</td>\n",
       "      <td>0.942</td>\n",
       "      <td>74.4</td>\n",
       "      <td>0.919</td>\n",
       "      <td>0.025</td>\n",
       "      <td>0.292</td>\n",
       "      <td>2.43</td>\n",
       "      <td>1.566</td>\n",
       "      <td>1.079</td>\n",
       "      <td>0.816</td>\n",
       "      <td>0.653</td>\n",
       "      <td>0.204</td>\n",
       "      <td>0.413</td>\n",
       "      <td>2.839</td>\n",
       "    </tr>\n",
       "    <tr>\n",
       "      <th>3</th>\n",
       "      <td>Iceland</td>\n",
       "      <td>Western Europe</td>\n",
       "      <td>7.554</td>\n",
       "      <td>0.059</td>\n",
       "      <td>7.670</td>\n",
       "      <td>7.438</td>\n",
       "      <td>10.878</td>\n",
       "      <td>0.983</td>\n",
       "      <td>73.0</td>\n",
       "      <td>0.955</td>\n",
       "      <td>0.160</td>\n",
       "      <td>0.673</td>\n",
       "      <td>2.43</td>\n",
       "      <td>1.482</td>\n",
       "      <td>1.172</td>\n",
       "      <td>0.772</td>\n",
       "      <td>0.698</td>\n",
       "      <td>0.293</td>\n",
       "      <td>0.170</td>\n",
       "      <td>2.967</td>\n",
       "    </tr>\n",
       "    <tr>\n",
       "      <th>4</th>\n",
       "      <td>Netherlands</td>\n",
       "      <td>Western Europe</td>\n",
       "      <td>7.464</td>\n",
       "      <td>0.027</td>\n",
       "      <td>7.518</td>\n",
       "      <td>7.410</td>\n",
       "      <td>10.932</td>\n",
       "      <td>0.942</td>\n",
       "      <td>72.4</td>\n",
       "      <td>0.913</td>\n",
       "      <td>0.175</td>\n",
       "      <td>0.338</td>\n",
       "      <td>2.43</td>\n",
       "      <td>1.501</td>\n",
       "      <td>1.079</td>\n",
       "      <td>0.753</td>\n",
       "      <td>0.647</td>\n",
       "      <td>0.302</td>\n",
       "      <td>0.384</td>\n",
       "      <td>2.798</td>\n",
       "    </tr>\n",
       "  </tbody>\n",
       "</table>\n",
       "</div>"
      ],
      "text/plain": [
       "  Country name Regional indicator  Ladder score  \\\n",
       "0      Finland     Western Europe         7.842   \n",
       "1      Denmark     Western Europe         7.620   \n",
       "2  Switzerland     Western Europe         7.571   \n",
       "3      Iceland     Western Europe         7.554   \n",
       "4  Netherlands     Western Europe         7.464   \n",
       "\n",
       "   Standard error of ladder score  upperwhisker  lowerwhisker  \\\n",
       "0                           0.032         7.904         7.780   \n",
       "1                           0.035         7.687         7.552   \n",
       "2                           0.036         7.643         7.500   \n",
       "3                           0.059         7.670         7.438   \n",
       "4                           0.027         7.518         7.410   \n",
       "\n",
       "   Logged GDP per capita  Social support  Healthy life expectancy  \\\n",
       "0                 10.775           0.954                     72.0   \n",
       "1                 10.933           0.954                     72.7   \n",
       "2                 11.117           0.942                     74.4   \n",
       "3                 10.878           0.983                     73.0   \n",
       "4                 10.932           0.942                     72.4   \n",
       "\n",
       "   Freedom to make life choices  Generosity  Perceptions of corruption  \\\n",
       "0                         0.949      -0.098                      0.186   \n",
       "1                         0.946       0.030                      0.179   \n",
       "2                         0.919       0.025                      0.292   \n",
       "3                         0.955       0.160                      0.673   \n",
       "4                         0.913       0.175                      0.338   \n",
       "\n",
       "   Ladder score in Dystopia  Explained by: Log GDP per capita  \\\n",
       "0                      2.43                             1.446   \n",
       "1                      2.43                             1.502   \n",
       "2                      2.43                             1.566   \n",
       "3                      2.43                             1.482   \n",
       "4                      2.43                             1.501   \n",
       "\n",
       "   Explained by: Social support  Explained by: Healthy life expectancy  \\\n",
       "0                         1.106                                  0.741   \n",
       "1                         1.108                                  0.763   \n",
       "2                         1.079                                  0.816   \n",
       "3                         1.172                                  0.772   \n",
       "4                         1.079                                  0.753   \n",
       "\n",
       "   Explained by: Freedom to make life choices  Explained by: Generosity  \\\n",
       "0                                       0.691                     0.124   \n",
       "1                                       0.686                     0.208   \n",
       "2                                       0.653                     0.204   \n",
       "3                                       0.698                     0.293   \n",
       "4                                       0.647                     0.302   \n",
       "\n",
       "   Explained by: Perceptions of corruption  Dystopia + residual  \n",
       "0                                    0.481                3.253  \n",
       "1                                    0.485                2.868  \n",
       "2                                    0.413                2.839  \n",
       "3                                    0.170                2.967  \n",
       "4                                    0.384                2.798  "
      ]
     },
     "execution_count": 2,
     "metadata": {},
     "output_type": "execute_result"
    }
   ],
   "source": [
    "# Acquired dataset from stored module and assigned as df\n",
    "\n",
    "df = pd.read_csv('world-happiness-report-2021.csv')\n",
    "df.head()"
   ]
  },
  {
   "cell_type": "code",
   "execution_count": 3,
   "id": "d22ee218",
   "metadata": {},
   "outputs": [
    {
     "name": "stdout",
     "output_type": "stream",
     "text": [
      "<class 'pandas.core.frame.DataFrame'>\n",
      "RangeIndex: 149 entries, 0 to 148\n",
      "Data columns (total 20 columns):\n",
      " #   Column                                      Non-Null Count  Dtype  \n",
      "---  ------                                      --------------  -----  \n",
      " 0   Country name                                149 non-null    object \n",
      " 1   Regional indicator                          149 non-null    object \n",
      " 2   Ladder score                                149 non-null    float64\n",
      " 3   Standard error of ladder score              149 non-null    float64\n",
      " 4   upperwhisker                                149 non-null    float64\n",
      " 5   lowerwhisker                                149 non-null    float64\n",
      " 6   Logged GDP per capita                       149 non-null    float64\n",
      " 7   Social support                              149 non-null    float64\n",
      " 8   Healthy life expectancy                     149 non-null    float64\n",
      " 9   Freedom to make life choices                149 non-null    float64\n",
      " 10  Generosity                                  149 non-null    float64\n",
      " 11  Perceptions of corruption                   149 non-null    float64\n",
      " 12  Ladder score in Dystopia                    149 non-null    float64\n",
      " 13  Explained by: Log GDP per capita            149 non-null    float64\n",
      " 14  Explained by: Social support                149 non-null    float64\n",
      " 15  Explained by: Healthy life expectancy       149 non-null    float64\n",
      " 16  Explained by: Freedom to make life choices  149 non-null    float64\n",
      " 17  Explained by: Generosity                    149 non-null    float64\n",
      " 18  Explained by: Perceptions of corruption     149 non-null    float64\n",
      " 19  Dystopia + residual                         149 non-null    float64\n",
      "dtypes: float64(18), object(2)\n",
      "memory usage: 23.4+ KB\n"
     ]
    }
   ],
   "source": [
    "df.info()"
   ]
  },
  {
   "cell_type": "code",
   "execution_count": 4,
   "id": "828621d3",
   "metadata": {},
   "outputs": [
    {
     "name": "stdout",
     "output_type": "stream",
     "text": [
      "The Happiest Country:  Finland\n",
      "The Most Unhappy Country:  Afghanistan\n"
     ]
    }
   ],
   "source": [
    "# ratings for happiest vs unhappiest\n",
    "maxScore = np.max(df[\"Ladder score\"]);\n",
    "minScore = np.min(df[\"Ladder score\"]);\n",
    "theHappiestCountry = df[df[\"Ladder score\"] == maxScore][\"Country name\"];\n",
    "theMostUnhappyCountry = df[df[\"Ladder score\"] == minScore][\"Country name\"];\n",
    "\n",
    "print(\"The Happiest Country: \", theHappiestCountry.values[0]);\n",
    "print(\"The Most Unhappy Country: \", theMostUnhappyCountry.values[0]);\n",
    "\n"
   ]
  },
  {
   "cell_type": "code",
   "execution_count": 5,
   "id": "6485af4c",
   "metadata": {},
   "outputs": [
    {
     "data": {
      "image/png": "[encoded data removed]",
      "text/plain": [
       "<Figure size 432x288 with 1 Axes>"
      ]
     },
     "metadata": {
      "needs_background": "light"
     },
     "output_type": "display_data"
    }
   ],
   "source": [
    "# visual for most happy, least happy\n",
    "happinessFilter = (df.loc[:,\"Ladder score\"] > 7.4) | (df.loc[:, \"Ladder score\"] < 3.5);\n",
    "sns.barplot(x = \"Ladder score\", y = \"Country name\", data = df[happinessFilter], palette = \"coolwarm\");"
   ]
  },
  {
   "cell_type": "code",
   "execution_count": 6,
   "id": "b9c4c591",
   "metadata": {},
   "outputs": [
    {
     "data": {
      "image/png": "[encoded data removed]",
      "text/plain": [
       "<Figure size 1080x576 with 1 Axes>"
      ]
     },
     "metadata": {
      "needs_background": "light"
     },
     "output_type": "display_data"
    }
   ],
   "source": [
    "plt.figure(figsize = (15, 8));\n",
    "sns.kdeplot(df[\"Ladder score\"], hue = df[\"Regional indicator\"], fill = True, linewidth = 2, palette = \"coolwarm\");\n",
    "plt.axvline(df[\"Ladder score\"].mean(), c = \"black\"); # Mean value of Ladder score\n",
    "plt.title(\"Ladder score vs Regional indicators\");"
   ]
  },
  {
   "cell_type": "markdown",
   "id": "291ef825",
   "metadata": {},
   "source": [
    "# Prepare\n",
    "### Perform a data cleanup:\n",
    "- To ensure that the data we are evaluating is at a high quality meaning it is free of incorrect, irrelevant, or incomplete information which will minimize the risk of wrong or inaccurate conclusions.\n",
    "\n",
    "## Steps\n",
    "- First, we will remove null values/duplicate values if any.\n",
    "- We can also take out duplicate values.\n",
    "- Removed columns upperwhisker and lowerwhisker"
   ]
  },
  {
   "cell_type": "code",
   "execution_count": 7,
   "id": "5750962a",
   "metadata": {},
   "outputs": [
    {
     "data": {
      "text/plain": [
       "Country name                                  0\n",
       "Regional indicator                            0\n",
       "Ladder score                                  0\n",
       "Standard error of ladder score                0\n",
       "upperwhisker                                  0\n",
       "lowerwhisker                                  0\n",
       "Logged GDP per capita                         0\n",
       "Social support                                0\n",
       "Healthy life expectancy                       0\n",
       "Freedom to make life choices                  0\n",
       "Generosity                                    0\n",
       "Perceptions of corruption                     0\n",
       "Ladder score in Dystopia                      0\n",
       "Explained by: Log GDP per capita              0\n",
       "Explained by: Social support                  0\n",
       "Explained by: Healthy life expectancy         0\n",
       "Explained by: Freedom to make life choices    0\n",
       "Explained by: Generosity                      0\n",
       "Explained by: Perceptions of corruption       0\n",
       "Dystopia + residual                           0\n",
       "dtype: int64"
      ]
     },
     "execution_count": 7,
     "metadata": {},
     "output_type": "execute_result"
    }
   ],
   "source": [
    "# view any null values\n",
    "\n",
    "df.isnull().sum()"
   ]
  },
  {
   "cell_type": "code",
   "execution_count": 8,
   "id": "6a36cece",
   "metadata": {},
   "outputs": [],
   "source": [
    "# drop unneeded column\n",
    "df.drop(columns = 'upperwhisker', inplace = True)\n"
   ]
  },
  {
   "cell_type": "code",
   "execution_count": 9,
   "id": "b10e42ac",
   "metadata": {},
   "outputs": [],
   "source": [
    "# drop unneeded column\n",
    "df.drop(columns = 'lowerwhisker', inplace = True)\n"
   ]
  },
  {
   "cell_type": "markdown",
   "id": "eed24205",
   "metadata": {},
   "source": [
    "# Lets write a function for this\n",
    "After preparing my dataset I've created a function to apply all the changes"
   ]
  },
  {
   "cell_type": "code",
   "execution_count": 10,
   "id": "b7fee470",
   "metadata": {},
   "outputs": [],
   "source": [
    "def wrangle_happy():\n",
    "    \n",
    "    df = get_happy()\n",
    "    \n",
    "    # let's go ahead and drop the nulls\n",
    "    df = df.dropna()\n",
    "    df.isnull().sum()\n",
    "    \n",
    "    \n",
    "    # upperwhisker can be dropped since this feature doesn't add to overall proj goal\n",
    "    df.drop(columns = 'upperwhisker', inplace = True)\n",
    "\n",
    "    \n",
    "    # lowerwhisker can be dropped since this feature doesn't add to overall proj goal\n",
    "    df.drop(columns = 'lowerwhisker', inplace = True)\n",
    "\n",
    "    return df"
   ]
  },
  {
   "cell_type": "code",
   "execution_count": 11,
   "id": "6746e642",
   "metadata": {},
   "outputs": [
    {
     "data": {
      "text/html": [
       "<div>\n",
       "<style scoped>\n",
       "    .dataframe tbody tr th:only-of-type {\n",
       "        vertical-align: middle;\n",
       "    }\n",
       "\n",
       "    .dataframe tbody tr th {\n",
       "        vertical-align: top;\n",
       "    }\n",
       "\n",
       "    .dataframe thead th {\n",
       "        text-align: right;\n",
       "    }\n",
       "</style>\n",
       "<table border=\"1\" class=\"dataframe\">\n",
       "  <thead>\n",
       "    <tr style=\"text-align: right;\">\n",
       "      <th></th>\n",
       "      <th>Ladder score</th>\n",
       "      <th>Standard error of ladder score</th>\n",
       "      <th>Logged GDP per capita</th>\n",
       "      <th>Social support</th>\n",
       "      <th>Healthy life expectancy</th>\n",
       "      <th>Freedom to make life choices</th>\n",
       "      <th>Generosity</th>\n",
       "      <th>Perceptions of corruption</th>\n",
       "      <th>Ladder score in Dystopia</th>\n",
       "      <th>Explained by: Log GDP per capita</th>\n",
       "      <th>...</th>\n",
       "      <th>Country name_Zimbabwe</th>\n",
       "      <th>Regional indicator_Commonwealth of Independent States</th>\n",
       "      <th>Regional indicator_East Asia</th>\n",
       "      <th>Regional indicator_Latin America and Caribbean</th>\n",
       "      <th>Regional indicator_Middle East and North Africa</th>\n",
       "      <th>Regional indicator_North America and ANZ</th>\n",
       "      <th>Regional indicator_South Asia</th>\n",
       "      <th>Regional indicator_Southeast Asia</th>\n",
       "      <th>Regional indicator_Sub-Saharan Africa</th>\n",
       "      <th>Regional indicator_Western Europe</th>\n",
       "    </tr>\n",
       "  </thead>\n",
       "  <tbody>\n",
       "    <tr>\n",
       "      <th>0</th>\n",
       "      <td>7.842</td>\n",
       "      <td>0.032</td>\n",
       "      <td>10.775</td>\n",
       "      <td>0.954</td>\n",
       "      <td>72.0</td>\n",
       "      <td>0.949</td>\n",
       "      <td>-0.098</td>\n",
       "      <td>0.186</td>\n",
       "      <td>2.43</td>\n",
       "      <td>1.446</td>\n",
       "      <td>...</td>\n",
       "      <td>0</td>\n",
       "      <td>0</td>\n",
       "      <td>0</td>\n",
       "      <td>0</td>\n",
       "      <td>0</td>\n",
       "      <td>0</td>\n",
       "      <td>0</td>\n",
       "      <td>0</td>\n",
       "      <td>0</td>\n",
       "      <td>1</td>\n",
       "    </tr>\n",
       "    <tr>\n",
       "      <th>1</th>\n",
       "      <td>7.620</td>\n",
       "      <td>0.035</td>\n",
       "      <td>10.933</td>\n",
       "      <td>0.954</td>\n",
       "      <td>72.7</td>\n",
       "      <td>0.946</td>\n",
       "      <td>0.030</td>\n",
       "      <td>0.179</td>\n",
       "      <td>2.43</td>\n",
       "      <td>1.502</td>\n",
       "      <td>...</td>\n",
       "      <td>0</td>\n",
       "      <td>0</td>\n",
       "      <td>0</td>\n",
       "      <td>0</td>\n",
       "      <td>0</td>\n",
       "      <td>0</td>\n",
       "      <td>0</td>\n",
       "      <td>0</td>\n",
       "      <td>0</td>\n",
       "      <td>1</td>\n",
       "    </tr>\n",
       "    <tr>\n",
       "      <th>2</th>\n",
       "      <td>7.571</td>\n",
       "      <td>0.036</td>\n",
       "      <td>11.117</td>\n",
       "      <td>0.942</td>\n",
       "      <td>74.4</td>\n",
       "      <td>0.919</td>\n",
       "      <td>0.025</td>\n",
       "      <td>0.292</td>\n",
       "      <td>2.43</td>\n",
       "      <td>1.566</td>\n",
       "      <td>...</td>\n",
       "      <td>0</td>\n",
       "      <td>0</td>\n",
       "      <td>0</td>\n",
       "      <td>0</td>\n",
       "      <td>0</td>\n",
       "      <td>0</td>\n",
       "      <td>0</td>\n",
       "      <td>0</td>\n",
       "      <td>0</td>\n",
       "      <td>1</td>\n",
       "    </tr>\n",
       "    <tr>\n",
       "      <th>3</th>\n",
       "      <td>7.554</td>\n",
       "      <td>0.059</td>\n",
       "      <td>10.878</td>\n",
       "      <td>0.983</td>\n",
       "      <td>73.0</td>\n",
       "      <td>0.955</td>\n",
       "      <td>0.160</td>\n",
       "      <td>0.673</td>\n",
       "      <td>2.43</td>\n",
       "      <td>1.482</td>\n",
       "      <td>...</td>\n",
       "      <td>0</td>\n",
       "      <td>0</td>\n",
       "      <td>0</td>\n",
       "      <td>0</td>\n",
       "      <td>0</td>\n",
       "      <td>0</td>\n",
       "      <td>0</td>\n",
       "      <td>0</td>\n",
       "      <td>0</td>\n",
       "      <td>1</td>\n",
       "    </tr>\n",
       "    <tr>\n",
       "      <th>4</th>\n",
       "      <td>7.464</td>\n",
       "      <td>0.027</td>\n",
       "      <td>10.932</td>\n",
       "      <td>0.942</td>\n",
       "      <td>72.4</td>\n",
       "      <td>0.913</td>\n",
       "      <td>0.175</td>\n",
       "      <td>0.338</td>\n",
       "      <td>2.43</td>\n",
       "      <td>1.501</td>\n",
       "      <td>...</td>\n",
       "      <td>0</td>\n",
       "      <td>0</td>\n",
       "      <td>0</td>\n",
       "      <td>0</td>\n",
       "      <td>0</td>\n",
       "      <td>0</td>\n",
       "      <td>0</td>\n",
       "      <td>0</td>\n",
       "      <td>0</td>\n",
       "      <td>1</td>\n",
       "    </tr>\n",
       "  </tbody>\n",
       "</table>\n",
       "<p>5 rows × 173 columns</p>\n",
       "</div>"
      ],
      "text/plain": [
       "   Ladder score  Standard error of ladder score  Logged GDP per capita  \\\n",
       "0         7.842                           0.032                 10.775   \n",
       "1         7.620                           0.035                 10.933   \n",
       "2         7.571                           0.036                 11.117   \n",
       "3         7.554                           0.059                 10.878   \n",
       "4         7.464                           0.027                 10.932   \n",
       "\n",
       "   Social support  Healthy life expectancy  Freedom to make life choices  \\\n",
       "0           0.954                     72.0                         0.949   \n",
       "1           0.954                     72.7                         0.946   \n",
       "2           0.942                     74.4                         0.919   \n",
       "3           0.983                     73.0                         0.955   \n",
       "4           0.942                     72.4                         0.913   \n",
       "\n",
       "   Generosity  Perceptions of corruption  Ladder score in Dystopia  \\\n",
       "0      -0.098                      0.186                      2.43   \n",
       "1       0.030                      0.179                      2.43   \n",
       "2       0.025                      0.292                      2.43   \n",
       "3       0.160                      0.673                      2.43   \n",
       "4       0.175                      0.338                      2.43   \n",
       "\n",
       "   Explained by: Log GDP per capita  ...  Country name_Zimbabwe  \\\n",
       "0                             1.446  ...                      0   \n",
       "1                             1.502  ...                      0   \n",
       "2                             1.566  ...                      0   \n",
       "3                             1.482  ...                      0   \n",
       "4                             1.501  ...                      0   \n",
       "\n",
       "   Regional indicator_Commonwealth of Independent States  \\\n",
       "0                                                  0       \n",
       "1                                                  0       \n",
       "2                                                  0       \n",
       "3                                                  0       \n",
       "4                                                  0       \n",
       "\n",
       "   Regional indicator_East Asia  \\\n",
       "0                             0   \n",
       "1                             0   \n",
       "2                             0   \n",
       "3                             0   \n",
       "4                             0   \n",
       "\n",
       "   Regional indicator_Latin America and Caribbean  \\\n",
       "0                                               0   \n",
       "1                                               0   \n",
       "2                                               0   \n",
       "3                                               0   \n",
       "4                                               0   \n",
       "\n",
       "   Regional indicator_Middle East and North Africa  \\\n",
       "0                                                0   \n",
       "1                                                0   \n",
       "2                                                0   \n",
       "3                                                0   \n",
       "4                                                0   \n",
       "\n",
       "   Regional indicator_North America and ANZ  Regional indicator_South Asia  \\\n",
       "0                                         0                              0   \n",
       "1                                         0                              0   \n",
       "2                                         0                              0   \n",
       "3                                         0                              0   \n",
       "4                                         0                              0   \n",
       "\n",
       "   Regional indicator_Southeast Asia  Regional indicator_Sub-Saharan Africa  \\\n",
       "0                                  0                                      0   \n",
       "1                                  0                                      0   \n",
       "2                                  0                                      0   \n",
       "3                                  0                                      0   \n",
       "4                                  0                                      0   \n",
       "\n",
       "   Regional indicator_Western Europe  \n",
       "0                                  1  \n",
       "1                                  1  \n",
       "2                                  1  \n",
       "3                                  1  \n",
       "4                                  1  \n",
       "\n",
       "[5 rows x 173 columns]"
      ]
     },
     "execution_count": 11,
     "metadata": {},
     "output_type": "execute_result"
    }
   ],
   "source": [
    "# Time to encode the encodeable!\n",
    "dummy_df = pd.get_dummies(df[['Country name','Regional indicator']], dummy_na=False, drop_first=[True, True])\n",
    "\n",
    "# Drop the original columns we encoded\n",
    "df = df.drop(columns=[\"Country name\", \"Regional indicator\"])\n",
    "\n",
    "# Stitch the df and the dummy_df together again\n",
    "df = pd.concat([df, dummy_df], axis=1)\n",
    "df.head()"
   ]
  },
  {
   "cell_type": "markdown",
   "id": "d8bbacdb",
   "metadata": {},
   "source": [
    "# Let's split our data"
   ]
  },
  {
   "cell_type": "code",
   "execution_count": 12,
   "id": "5626d903",
   "metadata": {},
   "outputs": [],
   "source": [
    "# 20% test, 80% train_validate\n",
    "# then of the 80% train_validate: 30% validate, 70% train.\n",
    "\n",
    "train, test = train_test_split(df, test_size = .2, random_state = 123)\n",
    "train, validate = train_test_split(train, test_size = .3, random_state = 123)"
   ]
  },
  {
   "cell_type": "code",
   "execution_count": 13,
   "id": "84054937",
   "metadata": {},
   "outputs": [
    {
     "name": "stdout",
     "output_type": "stream",
     "text": [
      "train -> (83, 173)\n",
      "validate -> (36, 173)\n",
      "test -> (30, 173)\n"
     ]
    }
   ],
   "source": [
    "# Validate my split.\n",
    "\n",
    "print(f'train -> {train.shape}')\n",
    "print(f'validate -> {validate.shape}')\n",
    "print(f'test -> {test.shape}')"
   ]
  },
  {
   "cell_type": "code",
   "execution_count": 14,
   "id": "d7d3c76e",
   "metadata": {},
   "outputs": [],
   "source": [
    "# Function created to split dataset\n",
    "\n",
    "def split_data(df):\n",
    "    '''\n",
    "    take in a DataFrame and return train, validate, and test DataFrames\n",
    "    return train, validate, test DataFrames.\n",
    "    '''\n",
    "    train, test = train_test_split(df, test_size = .2, random_state = 123)\n",
    "    train, validate = train_test_split(train, test_size = .3, random_state = 123)\n",
    "    \n",
    "    return train, validate, test"
   ]
  },
  {
   "cell_type": "code",
   "execution_count": 15,
   "id": "3536a037",
   "metadata": {},
   "outputs": [],
   "source": [
    "# apply split_data function to dataset\n",
    "\n",
    "train, validate, test = split_data(df)"
   ]
  },
  {
   "cell_type": "code",
   "execution_count": 16,
   "id": "0d12bd0b",
   "metadata": {},
   "outputs": [
    {
     "name": "stdout",
     "output_type": "stream",
     "text": [
      "train -> (83, 173)\n",
      "validate -> (36, 173)\n",
      "test -> (30, 173)\n"
     ]
    }
   ],
   "source": [
    "# Validate my split.\n",
    "\n",
    "print(f'train -> {train.shape}')\n",
    "print(f'validate -> {validate.shape}')\n",
    "print(f'test -> {test.shape}')"
   ]
  },
  {
   "cell_type": "code",
   "execution_count": 17,
   "id": "365a7045",
   "metadata": {},
   "outputs": [
    {
     "data": {
      "text/plain": [
       "((83, 173), (36, 173), (30, 173))"
      ]
     },
     "execution_count": 17,
     "metadata": {},
     "output_type": "execute_result"
    }
   ],
   "source": [
    "# Rows and columns for train, validate, and test\n",
    "\n",
    "train.shape, validate.shape, test.shape"
   ]
  },
  {
   "cell_type": "markdown",
   "id": "d6c9e098",
   "metadata": {},
   "source": [
    "# Exploratory Analysis"
   ]
  },
  {
   "cell_type": "markdown",
   "id": "60f79d6b",
   "metadata": {},
   "source": [
    "### Question 1\n",
    "- What is the relationship between happiness and income (GDP)?"
   ]
  },
  {
   "cell_type": "code",
   "execution_count": 18,
   "id": "a23ade2b",
   "metadata": {},
   "outputs": [
    {
     "data": {
      "text/plain": [
       "<seaborn.axisgrid.FacetGrid at 0x7f83990daee0>"
      ]
     },
     "execution_count": 18,
     "metadata": {},
     "output_type": "execute_result"
    },
    {
     "data": {
      "image/png": "[encoded data removed]",
      "text/plain": [
       "<Figure size 360x360 with 1 Axes>"
      ]
     },
     "metadata": {
      "needs_background": "light"
     },
     "output_type": "display_data"
    }
   ],
   "source": [
    "# plot data to visualize how happiness correlates to income\n",
    "\n",
    "\n",
    "sns.lmplot(x='Ladder score', y='Logged GDP per capita', data=df)"
   ]
  },
  {
   "cell_type": "code",
   "execution_count": 19,
   "id": "8b803173",
   "metadata": {},
   "outputs": [],
   "source": [
    "alpha = 0.5"
   ]
  },
  {
   "cell_type": "code",
   "execution_count": 20,
   "id": "883cee09",
   "metadata": {},
   "outputs": [
    {
     "name": "stdout",
     "output_type": "stream",
     "text": [
      "There is a correlation between beat clusters and popularity\n"
     ]
    }
   ],
   "source": [
    "# statistical test\n",
    "\n",
    "x = train['Ladder score']\n",
    "y = train['Logged GDP per capita']\n",
    "\n",
    "corr, p = stats.pearsonr(x, y)\n",
    "\n",
    "if p < alpha:\n",
    "    print('There is a correlation between beat clusters and popularity')\n",
    "else:\n",
    "    print('There is no correlation between beat clusters and popularity')"
   ]
  },
  {
   "cell_type": "markdown",
   "id": "fa6a4acb",
   "metadata": {},
   "source": [
    "### Question 2\n",
    "- What is the relationship between happiness and freedom?"
   ]
  },
  {
   "cell_type": "code",
   "execution_count": 21,
   "id": "4d194489",
   "metadata": {},
   "outputs": [
    {
     "data": {
      "text/plain": [
       "<seaborn.axisgrid.FacetGrid at 0x7f837b099fd0>"
      ]
     },
     "execution_count": 21,
     "metadata": {},
     "output_type": "execute_result"
    },
    {
     "data": {
      "image/png": "[encoded data removed]",
      "text/plain": [
       "<Figure size 360x360 with 1 Axes>"
      ]
     },
     "metadata": {
      "needs_background": "light"
     },
     "output_type": "display_data"
    }
   ],
   "source": [
    "# plot data to visualize how happiness correlates to freedom\n",
    "\n",
    "sns.lmplot(x='Ladder score', y='Freedom to make life choices', data=df)"
   ]
  },
  {
   "cell_type": "code",
   "execution_count": 22,
   "id": "18743ff7",
   "metadata": {},
   "outputs": [
    {
     "name": "stdout",
     "output_type": "stream",
     "text": [
      "There is a correlation between beat clusters and popularity\n"
     ]
    }
   ],
   "source": [
    "# statistical test\n",
    "\n",
    "x = train['Ladder score']\n",
    "y = train['Freedom to make life choices']\n",
    "\n",
    "corr, p = stats.pearsonr(x, y)\n",
    "\n",
    "if p < alpha:\n",
    "    print('There is a correlation between beat clusters and popularity')\n",
    "else:\n",
    "    print('There is no correlation between beat clusters and popularity')"
   ]
  },
  {
   "cell_type": "markdown",
   "id": "a15c523f",
   "metadata": {},
   "source": [
    "### Question 3\n",
    "\n",
    "- What is the relationship between happiness and perceptions of corruption?"
   ]
  },
  {
   "cell_type": "code",
   "execution_count": 23,
   "id": "89c1ef94",
   "metadata": {},
   "outputs": [
    {
     "data": {
      "text/plain": [
       "<seaborn.axisgrid.FacetGrid at 0x7f837b099250>"
      ]
     },
     "execution_count": 23,
     "metadata": {},
     "output_type": "execute_result"
    },
    {
     "data": {
      "image/png": "[encoded data removed]",
      "text/plain": [
       "<Figure size 360x360 with 1 Axes>"
      ]
     },
     "metadata": {
      "needs_background": "light"
     },
     "output_type": "display_data"
    }
   ],
   "source": [
    "# plot data to visualize how happiness correlates to perceptions of corruption\n",
    "\n",
    "sns.lmplot(x='Ladder score', y='Perceptions of corruption', data=df)"
   ]
  },
  {
   "cell_type": "code",
   "execution_count": 24,
   "id": "76ec87f6",
   "metadata": {},
   "outputs": [
    {
     "name": "stdout",
     "output_type": "stream",
     "text": [
      "There is a correlation between beat clusters and popularity\n"
     ]
    }
   ],
   "source": [
    "# statistical test\n",
    "\n",
    "x = train['Ladder score']\n",
    "y = train['Perceptions of corruption']\n",
    "\n",
    "corr, p = stats.pearsonr(x, y)\n",
    "\n",
    "if p < alpha:\n",
    "    print('There is a correlation between beat clusters and popularity')\n",
    "else:\n",
    "    print('There is no correlation between beat clusters and popularity')"
   ]
  },
  {
   "cell_type": "markdown",
   "id": "86c12bfa",
   "metadata": {},
   "source": [
    "### Question 4\n",
    "\n",
    "- How different is happiness depending on the geographical region?"
   ]
  },
  {
   "cell_type": "code",
   "execution_count": 25,
   "id": "ff81e756",
   "metadata": {},
   "outputs": [
    {
     "data": {
      "image/png": "[encoded data removed]",
      "text/plain": [
       "<Figure size 432x288 with 1 Axes>"
      ]
     },
     "metadata": {
      "needs_background": "light"
     },
     "output_type": "display_data"
    }
   ],
   "source": [
    "# plot data to visualize how happiness correlates to geographical region\n",
    "\n",
    "sns.barplot(data = train, x = 'Regional indicator_Western Europe', y = abs(train['Ladder score']))\n",
    "plt.title('Comparison of happiness by region');"
   ]
  },
  {
   "cell_type": "markdown",
   "id": "a342fc54",
   "metadata": {},
   "source": [
    "# Explore Summary\n",
    "\n",
    "Statistical analysis shows correlation between the clusters and target, as well as the audio features and target. All features can be used in modeling. SelectKBest's recommendation is also considered.\n",
    "\n",
    "\n"
   ]
  },
  {
   "cell_type": "markdown",
   "id": "28e23ce2",
   "metadata": {},
   "source": [
    "## Scale"
   ]
  },
  {
   "cell_type": "code",
   "execution_count": 26,
   "id": "20bffd03",
   "metadata": {},
   "outputs": [],
   "source": [
    "def standard_scaler(train, validate, test):\n",
    "    '''\n",
    "    Takes train, validate, and test dataframes as arguments and returns\n",
    "    standard scaler object and scaled versions of train, validate, and test.\n",
    "    '''\n",
    "    scaled_vars = list(train.select_dtypes('number').columns)\n",
    "    scaled_column_names = [i for i in scaled_vars]\n",
    "    scaler = sklearn.preprocessing.StandardScaler()\n",
    "    train_scaled = scaler.fit_transform(train[scaled_vars])\n",
    "    validate_scaled = scaler.transform(validate[scaled_vars])\n",
    "    test_scaled = scaler.transform(test[scaled_vars])\n",
    "\n",
    "    train_scaled = pd.DataFrame(train_scaled, columns=scaled_column_names, index=train.index.values)\n",
    "    validate_scaled = pd.DataFrame(validate_scaled, columns=scaled_column_names, index=validate.index.values)\n",
    "    test_scaled = pd.DataFrame(test_scaled, columns=scaled_column_names, index= test.index.values)\n",
    "    return scaler, train_scaled, validate_scaled, test_scaled\n"
   ]
  },
  {
   "cell_type": "markdown",
   "id": "bf07cdbf",
   "metadata": {},
   "source": [
    "# Model"
   ]
  },
  {
   "cell_type": "code",
   "execution_count": 27,
   "id": "bc364ad6",
   "metadata": {},
   "outputs": [],
   "source": [
    "X_train = train.drop(columns=['Ladder score'])\n",
    "y_train = train['Ladder score']\n",
    "\n",
    "X_validate = validate.drop(columns=['Ladder score'])\n",
    "y_validate = validate['Ladder score']\n",
    "\n",
    "X_test = test.drop(columns=['Ladder score',])\n",
    "y_test = test['Ladder score']"
   ]
  },
  {
   "cell_type": "code",
   "execution_count": 28,
   "id": "ad007bef",
   "metadata": {},
   "outputs": [
    {
     "data": {
      "text/plain": [
       "((83, 172), (83,), (30, 172), (30,))"
      ]
     },
     "execution_count": 28,
     "metadata": {},
     "output_type": "execute_result"
    }
   ],
   "source": [
    "X_train.shape, y_train.shape, X_test.shape, y_test.shape"
   ]
  },
  {
   "cell_type": "markdown",
   "id": "84a8874f",
   "metadata": {},
   "source": [
    "### Baseline"
   ]
  },
  {
   "cell_type": "code",
   "execution_count": 29,
   "id": "8e286acf",
   "metadata": {},
   "outputs": [
    {
     "name": "stdout",
     "output_type": "stream",
     "text": [
      "RMSE using Mean\n",
      "Train/In-Sample:  1.11 \n",
      "Validate/Out-of-Sample:  0.99\n",
      "RMSE using Median\n",
      "Train/In-Sample:  1.12 \n",
      "Validate/Out-of-Sample:  0.99\n"
     ]
    }
   ],
   "source": [
    "# We need y_train and y_validate to be dataframes to append the new columns with predicted values.\n",
    "\n",
    "y_train = pd.DataFrame(y_train)\n",
    "y_validate = pd.DataFrame(y_validate)\n",
    "\n",
    "# 1. Predict pred_mean\n",
    "pred_mean = y_train['Ladder score'].mean()\n",
    "y_train['pred_mean'] = pred_mean\n",
    "y_validate['pred_mean'] = pred_mean\n",
    "\n",
    "# 2. compute pred_median\n",
    "pred_median = y_train['Ladder score'].median()\n",
    "y_train['pred_median'] = pred_median\n",
    "y_validate['pred_median'] = pred_median\n",
    "\n",
    "# 3. RMSE of pred_mean\n",
    "rmse_train = mean_squared_error(y_train['Ladder score'], y_train.pred_mean)**(1/2)\n",
    "rmse_validate = mean_squared_error(y_validate['Ladder score'], y_validate.pred_mean)**(1/2)\n",
    "\n",
    "print(\"RMSE using Mean\\nTrain/In-Sample: \", round(rmse_train, 2), \n",
    "      \"\\nValidate/Out-of-Sample: \", round(rmse_validate, 2))\n",
    "\n",
    "# 4. RMSE of pred_median\n",
    "rmse_train = mean_squared_error(y_train['Ladder score'], y_train.pred_median)**(1/2)\n",
    "rmse_validate = mean_squared_error(y_validate['Ladder score'], y_validate.pred_median)**(1/2)\n",
    "\n",
    "print(\"RMSE using Median\\nTrain/In-Sample: \", round(rmse_train, 2), \n",
    "      \"\\nValidate/Out-of-Sample: \", round(rmse_validate, 2))"
   ]
  },
  {
   "cell_type": "code",
   "execution_count": 30,
   "id": "6513ebfd",
   "metadata": {},
   "outputs": [
    {
     "data": {
      "text/html": [
       "<div>\n",
       "<style scoped>\n",
       "    .dataframe tbody tr th:only-of-type {\n",
       "        vertical-align: middle;\n",
       "    }\n",
       "\n",
       "    .dataframe tbody tr th {\n",
       "        vertical-align: top;\n",
       "    }\n",
       "\n",
       "    .dataframe thead th {\n",
       "        text-align: right;\n",
       "    }\n",
       "</style>\n",
       "<table border=\"1\" class=\"dataframe\">\n",
       "  <thead>\n",
       "    <tr style=\"text-align: right;\">\n",
       "      <th></th>\n",
       "      <th>Ladder score</th>\n",
       "      <th>Standard error of ladder score</th>\n",
       "      <th>Logged GDP per capita</th>\n",
       "      <th>Social support</th>\n",
       "      <th>Healthy life expectancy</th>\n",
       "      <th>Freedom to make life choices</th>\n",
       "      <th>Generosity</th>\n",
       "      <th>Perceptions of corruption</th>\n",
       "      <th>Ladder score in Dystopia</th>\n",
       "      <th>Explained by: Log GDP per capita</th>\n",
       "      <th>...</th>\n",
       "      <th>Regional indicator_Commonwealth of Independent States</th>\n",
       "      <th>Regional indicator_East Asia</th>\n",
       "      <th>Regional indicator_Latin America and Caribbean</th>\n",
       "      <th>Regional indicator_Middle East and North Africa</th>\n",
       "      <th>Regional indicator_North America and ANZ</th>\n",
       "      <th>Regional indicator_South Asia</th>\n",
       "      <th>Regional indicator_Southeast Asia</th>\n",
       "      <th>Regional indicator_Sub-Saharan Africa</th>\n",
       "      <th>Regional indicator_Western Europe</th>\n",
       "      <th>baseline</th>\n",
       "    </tr>\n",
       "  </thead>\n",
       "  <tbody>\n",
       "    <tr>\n",
       "      <th>56</th>\n",
       "      <td>5.929</td>\n",
       "      <td>0.056</td>\n",
       "      <td>9.962</td>\n",
       "      <td>0.898</td>\n",
       "      <td>69.000</td>\n",
       "      <td>0.828</td>\n",
       "      <td>-0.182</td>\n",
       "      <td>0.834</td>\n",
       "      <td>2.43</td>\n",
       "      <td>1.162</td>\n",
       "      <td>...</td>\n",
       "      <td>0</td>\n",
       "      <td>0</td>\n",
       "      <td>1</td>\n",
       "      <td>0</td>\n",
       "      <td>0</td>\n",
       "      <td>0</td>\n",
       "      <td>0</td>\n",
       "      <td>0</td>\n",
       "      <td>0</td>\n",
       "      <td>5.538422</td>\n",
       "    </tr>\n",
       "    <tr>\n",
       "      <th>40</th>\n",
       "      <td>6.180</td>\n",
       "      <td>0.073</td>\n",
       "      <td>10.350</td>\n",
       "      <td>0.896</td>\n",
       "      <td>69.652</td>\n",
       "      <td>0.872</td>\n",
       "      <td>-0.166</td>\n",
       "      <td>0.856</td>\n",
       "      <td>2.43</td>\n",
       "      <td>1.298</td>\n",
       "      <td>...</td>\n",
       "      <td>0</td>\n",
       "      <td>0</td>\n",
       "      <td>1</td>\n",
       "      <td>0</td>\n",
       "      <td>0</td>\n",
       "      <td>0</td>\n",
       "      <td>0</td>\n",
       "      <td>0</td>\n",
       "      <td>0</td>\n",
       "      <td>5.538422</td>\n",
       "    </tr>\n",
       "    <tr>\n",
       "      <th>70</th>\n",
       "      <td>5.653</td>\n",
       "      <td>0.092</td>\n",
       "      <td>9.448</td>\n",
       "      <td>0.893</td>\n",
       "      <td>65.900</td>\n",
       "      <td>0.876</td>\n",
       "      <td>0.028</td>\n",
       "      <td>0.882</td>\n",
       "      <td>2.43</td>\n",
       "      <td>0.983</td>\n",
       "      <td>...</td>\n",
       "      <td>0</td>\n",
       "      <td>0</td>\n",
       "      <td>1</td>\n",
       "      <td>0</td>\n",
       "      <td>0</td>\n",
       "      <td>0</td>\n",
       "      <td>0</td>\n",
       "      <td>0</td>\n",
       "      <td>0</td>\n",
       "      <td>5.538422</td>\n",
       "    </tr>\n",
       "    <tr>\n",
       "      <th>23</th>\n",
       "      <td>6.584</td>\n",
       "      <td>0.038</td>\n",
       "      <td>10.871</td>\n",
       "      <td>0.898</td>\n",
       "      <td>69.600</td>\n",
       "      <td>0.784</td>\n",
       "      <td>-0.070</td>\n",
       "      <td>0.721</td>\n",
       "      <td>2.43</td>\n",
       "      <td>1.480</td>\n",
       "      <td>...</td>\n",
       "      <td>0</td>\n",
       "      <td>1</td>\n",
       "      <td>0</td>\n",
       "      <td>0</td>\n",
       "      <td>0</td>\n",
       "      <td>0</td>\n",
       "      <td>0</td>\n",
       "      <td>0</td>\n",
       "      <td>0</td>\n",
       "      <td>5.538422</td>\n",
       "    </tr>\n",
       "    <tr>\n",
       "      <th>138</th>\n",
       "      <td>3.819</td>\n",
       "      <td>0.026</td>\n",
       "      <td>8.755</td>\n",
       "      <td>0.603</td>\n",
       "      <td>60.633</td>\n",
       "      <td>0.893</td>\n",
       "      <td>0.089</td>\n",
       "      <td>0.774</td>\n",
       "      <td>2.43</td>\n",
       "      <td>0.741</td>\n",
       "      <td>...</td>\n",
       "      <td>0</td>\n",
       "      <td>0</td>\n",
       "      <td>0</td>\n",
       "      <td>0</td>\n",
       "      <td>0</td>\n",
       "      <td>1</td>\n",
       "      <td>0</td>\n",
       "      <td>0</td>\n",
       "      <td>0</td>\n",
       "      <td>5.538422</td>\n",
       "    </tr>\n",
       "  </tbody>\n",
       "</table>\n",
       "<p>5 rows × 174 columns</p>\n",
       "</div>"
      ],
      "text/plain": [
       "     Ladder score  Standard error of ladder score  Logged GDP per capita  \\\n",
       "56          5.929                           0.056                  9.962   \n",
       "40          6.180                           0.073                 10.350   \n",
       "70          5.653                           0.092                  9.448   \n",
       "23          6.584                           0.038                 10.871   \n",
       "138         3.819                           0.026                  8.755   \n",
       "\n",
       "     Social support  Healthy life expectancy  Freedom to make life choices  \\\n",
       "56            0.898                   69.000                         0.828   \n",
       "40            0.896                   69.652                         0.872   \n",
       "70            0.893                   65.900                         0.876   \n",
       "23            0.898                   69.600                         0.784   \n",
       "138           0.603                   60.633                         0.893   \n",
       "\n",
       "     Generosity  Perceptions of corruption  Ladder score in Dystopia  \\\n",
       "56       -0.182                      0.834                      2.43   \n",
       "40       -0.166                      0.856                      2.43   \n",
       "70        0.028                      0.882                      2.43   \n",
       "23       -0.070                      0.721                      2.43   \n",
       "138       0.089                      0.774                      2.43   \n",
       "\n",
       "     Explained by: Log GDP per capita  ...  \\\n",
       "56                              1.162  ...   \n",
       "40                              1.298  ...   \n",
       "70                              0.983  ...   \n",
       "23                              1.480  ...   \n",
       "138                             0.741  ...   \n",
       "\n",
       "     Regional indicator_Commonwealth of Independent States  \\\n",
       "56                                                   0       \n",
       "40                                                   0       \n",
       "70                                                   0       \n",
       "23                                                   0       \n",
       "138                                                  0       \n",
       "\n",
       "     Regional indicator_East Asia  \\\n",
       "56                              0   \n",
       "40                              0   \n",
       "70                              0   \n",
       "23                              1   \n",
       "138                             0   \n",
       "\n",
       "     Regional indicator_Latin America and Caribbean  \\\n",
       "56                                                1   \n",
       "40                                                1   \n",
       "70                                                1   \n",
       "23                                                0   \n",
       "138                                               0   \n",
       "\n",
       "     Regional indicator_Middle East and North Africa  \\\n",
       "56                                                 0   \n",
       "40                                                 0   \n",
       "70                                                 0   \n",
       "23                                                 0   \n",
       "138                                                0   \n",
       "\n",
       "     Regional indicator_North America and ANZ  Regional indicator_South Asia  \\\n",
       "56                                          0                              0   \n",
       "40                                          0                              0   \n",
       "70                                          0                              0   \n",
       "23                                          0                              0   \n",
       "138                                         0                              1   \n",
       "\n",
       "     Regional indicator_Southeast Asia  Regional indicator_Sub-Saharan Africa  \\\n",
       "56                                   0                                      0   \n",
       "40                                   0                                      0   \n",
       "70                                   0                                      0   \n",
       "23                                   0                                      0   \n",
       "138                                  0                                      0   \n",
       "\n",
       "     Regional indicator_Western Europe  baseline  \n",
       "56                                   0  5.538422  \n",
       "40                                   0  5.538422  \n",
       "70                                   0  5.538422  \n",
       "23                                   0  5.538422  \n",
       "138                                  0  5.538422  \n",
       "\n",
       "[5 rows x 174 columns]"
      ]
     },
     "execution_count": 30,
     "metadata": {},
     "output_type": "execute_result"
    }
   ],
   "source": [
    "# We will choose mean as the baseline with this data set\n",
    "\n",
    "train['baseline'] = train['Ladder score'].mean()\n",
    "\n",
    "baseline = train[\"Ladder score\"].mean()\n",
    "train['baseline'] = baseline\n",
    "train.head()"
   ]
  },
  {
   "cell_type": "markdown",
   "id": "aaecff01",
   "metadata": {},
   "source": [
    "### OLS"
   ]
  },
  {
   "cell_type": "code",
   "execution_count": 31,
   "id": "2c1a698e",
   "metadata": {},
   "outputs": [
    {
     "name": "stdout",
     "output_type": "stream",
     "text": [
      "RMSE for OLS using LinearRegression\n",
      "Training/In-Sample:  3.1333674773495862e-15 \n",
      "Validation/Out-of-Sample:  0.2629622139504091\n"
     ]
    }
   ],
   "source": [
    "# Create model\n",
    "lm = LinearRegression(normalize=True,)\n",
    "\n",
    "# fit the model to our training data. We must specify the column in y_train, \n",
    "# since we have converted it to a dataframe from a series! \n",
    "lm.fit(X_train, y_train['Ladder score'])\n",
    "\n",
    "# predict train\n",
    "y_train['ladderscore_pred_lm'] = lm.predict(X_train)\n",
    "\n",
    "# evaluate: rmse\n",
    "rmse_train = mean_squared_error(y_train['Ladder score'], y_train.ladderscore_pred_lm)**(1/2)\n",
    "\n",
    "# predict validate\n",
    "y_validate['ladderscore_pred_lm'] = lm.predict(X_validate)\n",
    "\n",
    "# evaluate: rmse\n",
    "rmse_validate = mean_squared_error(y_validate['Ladder score'], y_validate.ladderscore_pred_lm)**(1/2)\n",
    "\n",
    "print(\"RMSE for OLS using LinearRegression\\nTraining/In-Sample: \", rmse_train, \n",
    "      \"\\nValidation/Out-of-Sample: \", rmse_validate)"
   ]
  },
  {
   "cell_type": "markdown",
   "id": "4b251d9c",
   "metadata": {},
   "source": [
    "### Lassolars"
   ]
  },
  {
   "cell_type": "code",
   "execution_count": 32,
   "id": "d4e62d53",
   "metadata": {},
   "outputs": [
    {
     "name": "stdout",
     "output_type": "stream",
     "text": [
      "RMSE for Lasso + Lars\n",
      "Training/In-Sample:  1.1148959659768134 \n",
      "Validation/Out-of-Sample:  0.992024037277953\n"
     ]
    }
   ],
   "source": [
    "# create the model object\n",
    "lars = LassoLars(alpha=50)\n",
    "\n",
    "# fit the model to our training data. We must specify the column in y_train, \n",
    "# since we have converted it to a dataframe from a series! \n",
    "lars.fit(X_train, y_train['Ladder score'])\n",
    "\n",
    "# predict train\n",
    "y_train['ladderscore_pred_lars'] = lars.predict(X_train)\n",
    "\n",
    "# evaluate: rmse\n",
    "rmse_train = mean_squared_error(y_train['Ladder score'], y_train.ladderscore_pred_lars)**(1/2)\n",
    "\n",
    "# predict validate\n",
    "y_validate['ladderscore_pred_lars'] = lars.predict(X_validate)\n",
    "\n",
    "# evaluate: rmse\n",
    "rmse_validate = mean_squared_error(y_validate['Ladder score'], y_validate.ladderscore_pred_lars)**(1/2)\n",
    "\n",
    "print(\"RMSE for Lasso + Lars\\nTraining/In-Sample: \", rmse_train, \n",
    "      \"\\nValidation/Out-of-Sample: \", rmse_validate)"
   ]
  },
  {
   "cell_type": "markdown",
   "id": "c67735e5",
   "metadata": {},
   "source": [
    "### TweedieRegressor (GLM)"
   ]
  },
  {
   "cell_type": "code",
   "execution_count": 33,
   "id": "6154edfc",
   "metadata": {},
   "outputs": [
    {
     "name": "stdout",
     "output_type": "stream",
     "text": [
      "RMSE for GLM using Tweedie, power=1 & alpha=0\n",
      "Training/In-Sample:  0.07679393788883582 \n",
      "Validation/Out-of-Sample:  0.16452214937628662\n"
     ]
    }
   ],
   "source": [
    "# create the model object\n",
    "glm = TweedieRegressor(power=1, alpha=0)\n",
    "\n",
    "# fit the model to our training data. We must specify the column in y_train, \n",
    "# since we have converted it to a dataframe from a series! \n",
    "glm.fit(X_train, y_train['Ladder score'])\n",
    "\n",
    "# predict train\n",
    "y_train['ladderscore_pred_glm'] = glm.predict(X_train)\n",
    "\n",
    "# evaluate: rmse\n",
    "rmse_train = mean_squared_error(y_train['Ladder score'], y_train.ladderscore_pred_glm)**(1/2)\n",
    "\n",
    "# predict validate\n",
    "y_validate['ladderscore_pred_glm'] = glm.predict(X_validate)\n",
    "\n",
    "# evaluate: rmse\n",
    "rmse_validate = mean_squared_error(y_validate['Ladder score'], y_validate.ladderscore_pred_glm)**(1/2)\n",
    "\n",
    "print(\"RMSE for GLM using Tweedie, power=1 & alpha=0\\nTraining/In-Sample: \", rmse_train, \n",
    "      \"\\nValidation/Out-of-Sample: \", rmse_validate)"
   ]
  },
  {
   "cell_type": "markdown",
   "id": "05cc6942",
   "metadata": {},
   "source": [
    "### Evaluate on Test"
   ]
  },
  {
   "cell_type": "code",
   "execution_count": 34,
   "id": "c2003e21",
   "metadata": {},
   "outputs": [
    {
     "name": "stdout",
     "output_type": "stream",
     "text": [
      "RMSE for OLS Model using LinearRegression\n",
      "Out-of-Sample Performance:  0.2597023232635027\n"
     ]
    }
   ],
   "source": [
    "y_test = pd.DataFrame(y_test)\n",
    "\n",
    "# predict on test\n",
    "y_test['ladderscore_pred_lm'] = lm.predict(X_test)\n",
    "\n",
    "# evaluate: rmse\n",
    "rmse_test = mean_squared_error(y_test['Ladder score'], y_test.ladderscore_pred_lm)**(1/2)\n",
    "\n",
    "print(\"RMSE for OLS Model using LinearRegression\\nOut-of-Sample Performance: \", rmse_test)"
   ]
  },
  {
   "cell_type": "markdown",
   "id": "6dfb9ef1",
   "metadata": {},
   "source": [
    "## Conclusion Summary\n",
    "\n",
    "There is a correlation between happiness and the following features: Logged GDP per capita, Freedom to make life choices, Perceptions of corruption, and geographic location with sub-saharan Africa and South Asia ranking lowest in happines. Income showed as the biggest driver while the size of the unit followed.\n",
    "\n",
    "**Modeling:**\n",
    "The data was modeled through several regression algorithms with all features, clusters, and a few features as options. The polynomial model with all features included was the top performer with an RMSE of 20.57 when evaluated on the test dataset.\n",
    "\n"
   ]
  },
  {
   "cell_type": "markdown",
   "id": "cb1873c5",
   "metadata": {},
   "source": [
    "## Conclusion Recommendations\n",
    "\n",
    "- Feature Engineering\n",
    "    - We can add this step to extract more information from our already existing data. With new features implemented we can extract new information and more insights that may be able to improve our model accuracy."
   ]
  },
  {
   "cell_type": "markdown",
   "id": "52028c42",
   "metadata": {},
   "source": [
    "## Conclusion Next Steps\n",
    "\n",
    "- Drivers include: income, freedome, corruption or the perception of it, and location.\n",
    "- With more time I would work on improving the model adding more parameters"
   ]
  }
 ],
 "metadata": {
  "kernelspec": {
   "display_name": "Python 3",
   "language": "python",
   "name": "python3"
  },
  "language_info": {
   "codemirror_mode": {
    "name": "ipython",
    "version": 3
   },
   "file_extension": ".py",
   "mimetype": "text/x-python",
   "name": "python",
   "nbconvert_exporter": "python",
   "pygments_lexer": "ipython3",
   "version": "3.8.8"
  }
 },
 "nbformat": 4,
 "nbformat_minor": 5
}

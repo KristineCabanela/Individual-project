{
 "cells": [
  {
   "cell_type": "code",
   "execution_count": 1,
   "id": "e73c5531",
   "metadata": {},
   "outputs": [],
   "source": [
    "# World Happiness Report\n",
    "### A report on World Happiness\n",
    "\n",
    "\n",
    "# Presented By: Kristine Cabanela\n"
   ]
  },
  {
   "cell_type": "code",
   "execution_count": 2,
   "id": "64c0fcc1",
   "metadata": {},
   "outputs": [
    {
     "ename": "SyntaxError",
     "evalue": "invalid syntax (<ipython-input-2-222b3728ce60>, line 4)",
     "output_type": "error",
     "traceback": [
      "\u001b[0;36m  File \u001b[0;32m\"<ipython-input-2-222b3728ce60>\"\u001b[0;36m, line \u001b[0;32m4\u001b[0m\n\u001b[0;31m    Our overall goal is to identify key drivers for happiness among a variation of countries around the world and predict happiness based on these key drivers.\u001b[0m\n\u001b[0m        ^\u001b[0m\n\u001b[0;31mSyntaxError\u001b[0m\u001b[0;31m:\u001b[0m invalid syntax\n"
     ]
    }
   ],
   "source": [
    "# Project Summary\n",
    "\n",
    "### Goals\n",
    "Our overall goal is to identify key drivers for happiness among a variation of countries around the world and predict happiness based on these key drivers.\n",
    "\n",
    "### Project Description\n",
    "\n",
    "The World Happiness Report is a landmark survey of the state of global happiness that ranks 156 countries by how happy their citizens perceive themselves to be.\n",
    "\n",
    "In this project, we will utilize the information in The World Happiness Report, explore key drivers of happiness by analyzing and making correlations with various (quality of) life factors, and then we will use machine learning to create a regression model that predicts happiness."
   ]
  },
  {
   "cell_type": "code",
   "execution_count": null,
   "id": "56b052c3",
   "metadata": {},
   "outputs": [],
   "source": [
    "### Initial Questions\n",
    "\n",
    "- What is the relationship between happiness and income (GDP)?\n",
    "\n",
    "- What is the relationship between happiness and freedom?\n",
    "    \n",
    "- What is the relationship between happiness and perceptions of corruption?\n",
    "\n",
    "- How different is happiness depending on the geographical region?"
   ]
  },
  {
   "cell_type": "code",
   "execution_count": null,
   "id": "865b78f0",
   "metadata": {},
   "outputs": [],
   "source": [
    "## Data Dictionary\n",
    "\n",
    "| Variable            |     Description  |     \n",
    "| ----------------    | ------------------ |\n",
    "|Ladder score | Happiness score or subjective well-being. This is the national average response to the question of life evaluations |\n",
    "|Logged GDP per capita | The GDP-per-capita time series from 2019 to 2020 using countryspecific forecasts of real GDP growth in 2020 |\n",
    "|Social support| Social support refers to assistance or support provided by members of social networks to an individual |\n",
    "|Healthy life expectancy| Healthy life expectancy is the average life in good health - that is to say without irreversible limitation of activity in daily life or incapacities - of a fictitious generation subject to the conditions of mortality and morbidity prevailing that year|\n",
    "|Freedom to make life choices   | Freedom to make life choices is the national average of binary responses to the GWP question “Are you satisfied or dissatisfied with your freedom to choose what you do with your life?”|\n",
    "|Generosity| Generosity is the residual of regressing national average of response to the GWP question “Have you donated money to a charity in the past month?” on GDP per capita |\n",
    "|Perceptions of corruption| The measure is the national average of the survey responses to two questions in the GWP: “Is corruption widespread throughout the government or not” and “Is corruption widespread within businesses or not?”  |\n",
    "|Ladder score in Dystopia| It has values equal to the world’s lowest national averages. Dystopia as a benchmark against which to compare contributions from each of the six factors. Dystopia is an imaginary country that has the world's least-happy people. ... Since life would be very unpleasant in a country with the world's lowest incomes, lowest life expectancy, lowest generosity, most corruption, least freedom, and least social support, it is referred to as “Dystopia,” in contrast to Utopia |\n",
    "\n",
    "\n",
    "\n",
    "\n"
   ]
  },
  {
   "cell_type": "code",
   "execution_count": null,
   "id": "1b3a570a",
   "metadata": {},
   "outputs": [],
   "source": []
  },
  {
   "cell_type": "code",
   "execution_count": null,
   "id": "fe5b681e",
   "metadata": {},
   "outputs": [],
   "source": []
  },
  {
   "cell_type": "code",
   "execution_count": null,
   "id": "44da525e",
   "metadata": {},
   "outputs": [],
   "source": []
  }
 ],
 "metadata": {
  "kernelspec": {
   "display_name": "Python 3",
   "language": "python",
   "name": "python3"
  },
  "language_info": {
   "codemirror_mode": {
    "name": "ipython",
    "version": 3
   },
   "file_extension": ".py",
   "mimetype": "text/x-python",
   "name": "python",
   "nbconvert_exporter": "python",
   "pygments_lexer": "ipython3",
   "version": "3.8.8"
  }
 },
 "nbformat": 4,
 "nbformat_minor": 5
}
